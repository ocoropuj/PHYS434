{
  "cells": [
    {
      "cell_type": "markdown",
      "metadata": {
        "id": "view-in-github",
        "colab_type": "text"
      },
      "source": [
        "<a href=\"https://colab.research.google.com/github/ocoropuj/PHYS434/blob/main/Homework_5_pvalue.ipynb\" target=\"_parent\"><img src=\"https://colab.research.google.com/assets/colab-badge.svg\" alt=\"Open In Colab\"/></a>"
      ]
    },
    {
      "cell_type": "markdown",
      "id": "adf1ae09",
      "metadata": {
        "id": "adf1ae09"
      },
      "source": [
        "# Homework 5\n",
        "\n",
        "\n",
        "For a simple counting experiment, the expected background event is $b$ and the observed event is $n$.\n",
        "The best estimator for signal event $s$ is:\n",
        "$$s=n-b.$$\n",
        "\n",
        "There are different metrics to evaluate discovery significance.\n",
        "\n",
        "* Simplified Z0\n",
        "$$ Z_{0, simple} = s/\\sqrt{b}$$\n",
        "\n",
        "* Asympototic Z0\n",
        "$$ Z_{0, asymptotic} = \\sqrt{2((s+b)\\mathrm{ln} (1+s/b)-s)}$$\n",
        "\n",
        "* Bayesian Z0\n",
        "$$ p-value = \\int_{n}^{\\infty}\\mathrm{Poisson}(k|b) dk$$.\n",
        "$$Z_{0, Bayesian} =  \\mathrm{Gauss_{1-sided}(p-value)} $$\n",
        "\n",
        "\n",
        "In this exercise, we will implement each of the metric and compare consistency.\n"
      ]
    },
    {
      "cell_type": "code",
      "source": [
        "# @title Install Iminuit\n",
        "!pip install iminuit\n"
      ],
      "metadata": {
        "cellView": "form",
        "id": "ZHVVWalLr7iY"
      },
      "id": "ZHVVWalLr7iY",
      "execution_count": null,
      "outputs": []
    },
    {
      "cell_type": "code",
      "execution_count": null,
      "id": "e3dbc4fb",
      "metadata": {
        "id": "e3dbc4fb"
      },
      "outputs": [],
      "source": [
        "import numpy as np\n",
        "import matplotlib.pyplot as plt\n",
        "import iminuit.minimize as minimize\n",
        "from tqdm import tqdm\n",
        "import scipy\n",
        "from scipy.stats import poisson, norm\n",
        "\n"
      ]
    },
    {
      "cell_type": "code",
      "source": [
        "# Define test statistics q_0 for Frequentist approach\n",
        "# 1. We require signal event s >0 for positive signal yield.\n",
        "#    Therefore, the test statistics q_0 is 0 if N_obs <= Nb\n",
        "\n",
        "def q0(N_obs, Nb):\n",
        "    if N_obs <= Nb:\n",
        "        q0_out = 0\n",
        "    else:\n",
        "        s = N_obs - Nb\n",
        "        q0_out = 2 * ((s + Nb) * np.log(1 + s / Nb) - s)\n",
        "    return q0_out\n"
      ],
      "metadata": {
        "id": "hxNw7OBLtXWx"
      },
      "id": "hxNw7OBLtXWx",
      "execution_count": null,
      "outputs": []
    },
    {
      "cell_type": "code",
      "source": [
        "# 2. Compute two Poisson loglikelihood of\n",
        "#    a) backgorund only model\n",
        "#    b) signal+background model\n",
        "#    Evaluate -2 log likelihood ratio between a) and b)\n",
        "def poisson_log_likelihood(k, lambd):\n",
        "    return -2 * poisson.logpmf(k, lambd)\n",
        "\n",
        "def background_only_log_likelihood(N_obs, Nb):\n",
        "    return poisson_log_likelihood(N_obs, Nb)\n",
        "\n",
        "def signal_plus_background_log_likelihood(N_obs, Nb, s):\n",
        "    total_expected = Nb + s\n",
        "    return poisson_log_likelihood(N_obs, total_expected)\n"
      ],
      "metadata": {
        "id": "ghW9UsZJtYZ2"
      },
      "id": "ghW9UsZJtYZ2",
      "execution_count": null,
      "outputs": []
    },
    {
      "cell_type": "markdown",
      "id": "bf377faa",
      "metadata": {
        "id": "bf377faa"
      },
      "source": [
        "Implement four metrics:"
      ]
    },
    {
      "cell_type": "code",
      "execution_count": null,
      "id": "23c3758c",
      "metadata": {
        "id": "23c3758c"
      },
      "outputs": [],
      "source": [
        "def SimplifiedZ0(N_obs, N_b):\n",
        "    if N_obs <= N_b:\n",
        "        return 0.0  # Z-score is 0 for N_obs <= N_b\n",
        "    s = N_obs - N_b\n",
        "    Zscore = s / np.sqrt(N_b)\n",
        "    return Zscore\n",
        "\n",
        "def AsymptoticZ0(N_obs, N_b):\n",
        "    if N_obs <= N_b:\n",
        "        return 0.0  # Z-score is 0 for N_obs <= N_b\n",
        "    s = N_obs - N_b\n",
        "    Zscore = np.sqrt(2 * ((s + N_b) * np.log(1 + s / N_b) - s))\n",
        "    return Zscore\n",
        "\n",
        "\n",
        "def BayesianZ0(N_obs,N_b):\n",
        "    # Write your code here\n",
        "    pvalue = 1-poisson.cdf(N_obs, N_b)\n",
        "    Zscore= scipy.stats.norm.ppf(1-pvalue)\n",
        "    return Zscore\n"
      ]
    },
    {
      "cell_type": "markdown",
      "id": "2c04ff2e",
      "metadata": {
        "id": "2c04ff2e"
      },
      "source": [
        "Now, let's apply our code for numerical calculations.\n",
        "\n",
        "Consider the case that backogrund only model with yields b=0.5 and observed events n=5.\n",
        "\n",
        "Calclate discovery significance for each of the metric, respectively."
      ]
    },
    {
      "cell_type": "code",
      "execution_count": null,
      "id": "f165924a",
      "metadata": {
        "colab": {
          "base_uri": "https://localhost:8080/"
        },
        "id": "f165924a",
        "outputId": "629dd9a1-9be1-457d-8c0d-b122061bf673"
      },
      "outputs": [
        {
          "output_type": "stream",
          "name": "stdout",
          "text": [
            "Simplified Z0: 6.363961030678928\n",
            "Asymptotic Z0: 3.7451102693966782\n",
            "Bayesian Z0: 4.186492134133442\n"
          ]
        }
      ],
      "source": [
        "Nobs=5\n",
        "Nb=0.5\n",
        "\n",
        "# Calculate discovery significance for Simplified Z0\n",
        "SimplifiedZ0 = SimplifiedZ0(Nobs, Nb)\n",
        "\n",
        "# Calculate discovery significance for Asymptotic Z0\n",
        "AsymptoticZ0 = AsymptoticZ0(Nobs, Nb)\n",
        "\n",
        "p_value = 1 - poisson.cdf(Nobs, Nb)\n",
        "BayesianZ0 = norm.ppf(1 - p_value)\n",
        "\n",
        "print(\"Simplified Z0:\", SimplifiedZ0)\n",
        "print(\"Asymptotic Z0:\", AsymptoticZ0)\n",
        "print(\"Bayesian Z0:\", BayesianZ0)"
      ]
    },
    {
      "cell_type": "markdown",
      "id": "758c2bb2",
      "metadata": {
        "id": "758c2bb2"
      },
      "source": [
        "Describe the consistency between different metrics.\n",
        "\n",
        "Write your answers here:\n",
        "\n",
        "We find the following points:\n",
        "\n",
        "1. All three metrics provide positive Z-scores indicating that there is a level of statistical significance in the data. And indicating a deviation \"in the same direction\" from the background.\n",
        "2. The simplified $Z_{0,simple}$ provide the highest $Z$-score which indicates a larger value of $s$ since it grows linearly (Faster than the other methods)\n"
      ]
    }
  ],
  "metadata": {
    "kernelspec": {
      "display_name": "Python 3 (ipykernel)",
      "language": "python",
      "name": "python3"
    },
    "language_info": {
      "codemirror_mode": {
        "name": "ipython",
        "version": 3
      },
      "file_extension": ".py",
      "mimetype": "text/x-python",
      "name": "python",
      "nbconvert_exporter": "python",
      "pygments_lexer": "ipython3",
      "version": "3.10.7"
    },
    "colab": {
      "provenance": [],
      "include_colab_link": true
    }
  },
  "nbformat": 4,
  "nbformat_minor": 5
}