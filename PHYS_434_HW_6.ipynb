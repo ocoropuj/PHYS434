{
  "cells": [
    {
      "cell_type": "markdown",
      "metadata": {
        "id": "view-in-github",
        "colab_type": "text"
      },
      "source": [
        "<a href=\"https://colab.research.google.com/github/ocoropuj/PHYS434/blob/main/PHYS_434_HW_6.ipynb\" target=\"_parent\"><img src=\"https://colab.research.google.com/assets/colab-badge.svg\" alt=\"Open In Colab\"/></a>"
      ]
    },
    {
      "cell_type": "markdown",
      "metadata": {
        "id": "7e1ljMrO1Sn6"
      },
      "source": [
        "# Frequentist vs Bayesian significance"
      ]
    },
    {
      "cell_type": "markdown",
      "metadata": {
        "id": "VYzfg2x71Sn9"
      },
      "source": [
        "For a simple counting experiment, the expected background event is $b$ and the observed event is $n$.\n",
        "The best estimator for signal event $s$ is:\n",
        "$$s=n-b.$$ In this exercise, we will implement Frequentist significance calculation.\n",
        "\n",
        "$$ p-value =  \\int_{q_{0,n}}^{\\infty} f(q_0|b) dq_0 $$\n",
        "$$Z_{0, Frequentist} = \\mathrm{Z score\\ 1-tailed\\ (p-value)} $$\n",
        ", where $f(q_0|b)$ is distribution of test statistics $q_0$ in background only hypothesis.\n",
        "The test statistics is defined as likelihood ratio between backogrund only model and the best fit model\n",
        "$$ q_0 = -2 \\mathrm{ln} \\frac{L(n|s=0,b)}{L(n|s,b)} $$\n",
        "In the simple counting experiment, the Likelihood $L$ is Poisson distribution. The test statistics can be written as\n",
        "$$ q_0 = -2 \\mathrm{ln} \\frac{\\mathrm{Poisson}(n|b)}{\\mathrm{Poisson}(n|s+b)}$$\n",
        "\n",
        "\n"
      ]
    },
    {
      "cell_type": "code",
      "source": [
        "!pip install iminuit"
      ],
      "metadata": {
        "colab": {
          "base_uri": "https://localhost:8080/"
        },
        "id": "RzmkAOXg1bk6",
        "outputId": "9582bb9c-75dd-4678-c786-18514a62350c"
      },
      "execution_count": 1,
      "outputs": [
        {
          "output_type": "stream",
          "name": "stdout",
          "text": [
            "Requirement already satisfied: iminuit in /usr/local/lib/python3.10/dist-packages (2.24.0)\n",
            "Requirement already satisfied: numpy>=1.21 in /usr/local/lib/python3.10/dist-packages (from iminuit) (1.23.5)\n"
          ]
        }
      ]
    },
    {
      "cell_type": "code",
      "execution_count": 2,
      "metadata": {
        "id": "xEtF-bxf1Sn-"
      },
      "outputs": [],
      "source": [
        "import numpy as np\n",
        "import matplotlib.pyplot as plt\n",
        "import iminuit.minimize as minimize\n",
        "from tqdm import tqdm\n",
        "import scipy\n",
        "from scipy.stats import poisson\n",
        "\n",
        "# Define test statistics q_0 for Frequentist approach\n",
        "# 1. We require signal event s >0 for positive signal yield.\n",
        "#    Therefore, the test statistics q_0 is 0 if N_obs <= Nb\n",
        "# 2. Compute two Poisson loglikelihood of\n",
        "#    a) backgorund only model\n",
        "#    b) signal+background model\n",
        "#    Evaluate -2 log likelihood ratio between a) and b)\n",
        "\n",
        "def q0(N_obs, N_b):\n",
        "    if N_obs <= N_b:\n",
        "        # If N_obs is less than or equal to N_b, return q0 = 0\n",
        "        return 0\n",
        "    else:\n",
        "        # Calculate the Poisson log likelihood for the background-only model\n",
        "        log_likelihood_bg = poisson.logpmf(N_obs, N_b)\n",
        "\n",
        "        # Calculate the Poisson log likelihood for the signal+background model\n",
        "        log_likelihood_sig_bg = poisson.logpmf(N_obs, N_obs)\n",
        "\n",
        "        # Calculate -2 * log likelihood ratio\n",
        "        q0_out = -2 * (log_likelihood_bg - log_likelihood_sig_bg)\n",
        "        return q0_out"
      ]
    },
    {
      "cell_type": "code",
      "execution_count": 3,
      "metadata": {
        "id": "wyOjJtyl1Sn_"
      },
      "outputs": [],
      "source": [
        "def FreqnetistZ0(N_obs, N_b, n_experiments = 10000):\n",
        "    # Set a random seed for reproducibility\n",
        "    np.random.seed(seed=8)\n",
        "\n",
        "    # Number of toy experiments to generate\n",
        "\n",
        "    # Step 1: Generate toy experiments and compute q_0 for each experiment\n",
        "    q_0_values = []\n",
        "\n",
        "    for _ in range(n_experiments):\n",
        "        # Generate a random toy experiment based on the background-only model\n",
        "        toy_experiment = np.random.poisson(N_b)\n",
        "\n",
        "        # Calculate the q_0 value for this toy experiment\n",
        "        q_0_value = q0(toy_experiment, N_b)\n",
        "        q_0_values.append(q_0_value)\n",
        "\n",
        "    # Step 2: Compute the p-value\n",
        "    q_0_obs = q0(N_obs, N_b)\n",
        "    p_value = np.mean(np.array(q_0_values) >= q_0_obs)\n",
        "\n",
        "    # Step 3: Calculate the Z-score\n",
        "    Zscore = np.sqrt(2) * scipy.stats.norm.ppf(1 - p_value)\n",
        "\n",
        "    return Zscore"
      ]
    },
    {
      "cell_type": "markdown",
      "metadata": {
        "id": "PgjV6C-Z1SoA"
      },
      "source": [
        "Now, let's apply our code for numerical calculations.\n",
        "\n",
        "Consider the case that backogrund only model with yields b=0.5 and observed events n=5.\n",
        "\n",
        "Calclate discovery significance."
      ]
    },
    {
      "cell_type": "code",
      "execution_count": 4,
      "metadata": {
        "colab": {
          "base_uri": "https://localhost:8080/"
        },
        "id": "fvtQ0kY21SoA",
        "outputId": "bb9fa5dc-2c87-4608-ecaa-0162728e3fa6"
      },
      "outputs": [
        {
          "output_type": "stream",
          "name": "stdout",
          "text": [
            "Z0freq:5.26\n"
          ]
        }
      ],
      "source": [
        "Nobs=5\n",
        "Nb=0.5\n",
        "\n",
        "print(\"Z0freq:%.2f\"%(FreqnetistZ0(Nobs,Nb)))"
      ]
    },
    {
      "cell_type": "markdown",
      "metadata": {
        "id": "CqqPy5wK1SoB"
      },
      "source": [
        "Q1: How is the number compared to the Baysian signficance from homework5?\n",
        "\n",
        "We recall that the: $$Z_{0,bayesian}\\approx 4.19$$\n",
        "So we find that: $$Z_{0,frequentist}>Z_{0,bayesian}$$"
      ]
    },
    {
      "cell_type": "markdown",
      "metadata": {
        "id": "lyxOAM4m1SoC"
      },
      "source": [
        "Consdier a background only model with yields b=4 and observed events n=5. Calculate Baysian signifiance and Frequqnt signficance, and compare the results."
      ]
    },
    {
      "cell_type": "code",
      "execution_count": 5,
      "metadata": {
        "id": "1d8_4jcW1SoC"
      },
      "outputs": [],
      "source": [
        "#We recall:\n",
        "def BayesianZ0(N_obs,N_b):\n",
        "    # Write your code here\n",
        "    pvalue = 1-poisson.cdf(N_obs, N_b)\n",
        "    Zscore= scipy.stats.norm.ppf(1-pvalue)\n",
        "    return Zscore"
      ]
    },
    {
      "cell_type": "code",
      "source": [
        "Nobs = 5\n",
        "Nb = 4\n",
        "print(f'Bayesian: {round(BayesianZ0(Nobs,Nb),4)}')\n",
        "print(f'Freuentist: {round(FreqnetistZ0(Nobs,Nb),4)}')"
      ],
      "metadata": {
        "colab": {
          "base_uri": "https://localhost:8080/"
        },
        "id": "661Za23yAIC-",
        "outputId": "f6470174-dcd6-4b33-c6a4-857aa20c98d2"
      },
      "execution_count": 6,
      "outputs": [
        {
          "output_type": "stream",
          "name": "stdout",
          "text": [
            "Bayesian: 0.7896\n",
            "Freuentist: 0.4802\n"
          ]
        }
      ]
    },
    {
      "cell_type": "markdown",
      "source": [
        "We find that the Bayessian significance here is larger, with:\n",
        "$$Z_{0,frequentist}\\approx0.4802; Z_{0,bayesian}\\approx0.7896$$\n",
        "Such that:\n",
        "$$Z_{0,frequentist}<Z_{0,bayesian}$$\n",
        "$$$$\n",
        "This is consistent from the fact that the significance it is calculated two diferent ways, and it could have diferent values for diferent paramenters and observations."
      ],
      "metadata": {
        "id": "B6mkoMWAAWh_"
      }
    }
  ],
  "metadata": {
    "kernelspec": {
      "display_name": "Python 3 (ipykernel)",
      "language": "python",
      "name": "python3"
    },
    "language_info": {
      "codemirror_mode": {
        "name": "ipython",
        "version": 3
      },
      "file_extension": ".py",
      "mimetype": "text/x-python",
      "name": "python",
      "nbconvert_exporter": "python",
      "pygments_lexer": "ipython3",
      "version": "3.10.7"
    },
    "colab": {
      "provenance": [],
      "include_colab_link": true
    }
  },
  "nbformat": 4,
  "nbformat_minor": 0
}